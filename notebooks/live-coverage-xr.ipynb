{
 "cells": [
  {
   "cell_type": "markdown",
   "metadata": {
    "deletable": true,
    "editable": true
   },
   "source": [
    "# Netmiko & Diffing"
   ]
  },
  {
   "cell_type": "code",
   "execution_count": null,
   "metadata": {
    "collapsed": true,
    "deletable": true,
    "editable": true
   },
   "outputs": [],
   "source": [
    "HOST = '192.75.232.222'\n",
    "PORT_NC = 830\n",
    "PORT_SSH = 22\n",
    "USER = 'cisco'\n",
    "PASS = 'cisco'\n",
    "PLATFORM = 'cisco_xr'"
   ]
  },
  {
   "cell_type": "markdown",
   "metadata": {
    "deletable": true,
    "editable": true
   },
   "source": [
    "## Connect both netmiko and ncclient"
   ]
  },
  {
   "cell_type": "code",
   "execution_count": null,
   "metadata": {
    "collapsed": false,
    "deletable": true,
    "editable": true
   },
   "outputs": [],
   "source": [
    "from netmiko import ConnectHandler\n",
    "from ncclient import manager\n",
    "from lxml import etree\n",
    "\n",
    "\n",
    "def pretty_print(retval):\n",
    "    print(etree.tostring(retval.data, pretty_print=True))\n",
    "\n",
    "def my_unknown_host_cb(host, fingerprint):\n",
    "    return True\n",
    "\n",
    "def get_reply(chan, eom):\n",
    "    bytes = u''\n",
    "    while bytes.find(eom)==-1:\n",
    "        bytes += chan.recv(65535).decode('utf-8')\n",
    "    return bytes\n",
    "\n",
    "m = manager.connect(host=HOST, port=PORT_NC, username=USER, password=PASS,\n",
    "                    allow_agent=False,\n",
    "                    look_for_keys=False,\n",
    "                    hostkey_verify=False,\n",
    "                    unknown_host_cb=my_unknown_host_cb)\n",
    "d = ConnectHandler(device_type=PLATFORM, ip=HOST, port=PORT_SSH, username=USER, password=PASS)\n",
    "\n",
    "prompt = d.find_prompt()"
   ]
  },
  {
   "cell_type": "markdown",
   "metadata": {
    "collapsed": true,
    "deletable": true,
    "editable": true
   },
   "source": [
    "## Sample Config To Apply"
   ]
  },
  {
   "cell_type": "code",
   "execution_count": null,
   "metadata": {
    "collapsed": false,
    "deletable": true,
    "editable": true
   },
   "outputs": [],
   "source": [
    "config = '''interface Loopback666\n",
    "description Hi\n",
    "commit\n",
    "end\n",
    "'''"
   ]
  },
  {
   "cell_type": "markdown",
   "metadata": {},
   "source": [
    "## Capture Starting Config"
   ]
  },
  {
   "cell_type": "code",
   "execution_count": null,
   "metadata": {
    "collapsed": false
   },
   "outputs": [],
   "source": [
    "running_config_before_text = d.send_command('show running-config')\n",
    "running_config_before_xml = etree.tostring(m.get_config(source='running').data)"
   ]
  },
  {
   "cell_type": "markdown",
   "metadata": {
    "deletable": true,
    "editable": true
   },
   "source": [
    "## Apply Config"
   ]
  },
  {
   "cell_type": "code",
   "execution_count": null,
   "metadata": {
    "collapsed": false,
    "deletable": true,
    "editable": true
   },
   "outputs": [],
   "source": [
    "output = d.send_config_set(config.splitlines())"
   ]
  },
  {
   "cell_type": "markdown",
   "metadata": {
    "deletable": true,
    "editable": true
   },
   "source": [
    "## Capture Post-Configlet Running Config"
   ]
  },
  {
   "cell_type": "code",
   "execution_count": null,
   "metadata": {
    "collapsed": false,
    "deletable": true,
    "editable": true
   },
   "outputs": [],
   "source": [
    "running_config_after_text = d.send_command('show running-config')\n",
    "running_config_after_xml = etree.tostring(m.get_config(source='running').data)"
   ]
  },
  {
   "cell_type": "markdown",
   "metadata": {
    "deletable": true,
    "editable": true
   },
   "source": [
    "## XML Diff In Text Form"
   ]
  },
  {
   "cell_type": "code",
   "execution_count": null,
   "metadata": {
    "collapsed": false,
    "deletable": true,
    "editable": true
   },
   "outputs": [],
   "source": [
    "from difflib import context_diff\n",
    "\n",
    "#\n",
    "# remember to skip the first few lines that have timestamps & stuff that may differ\n",
    "#\n",
    "print('\\n'.join(context_diff(running_config_before_xml.splitlines(),\n",
    "                             running_config_after_xml.splitlines())))"
   ]
  },
  {
   "cell_type": "markdown",
   "metadata": {},
   "source": [
    "## Rollback Using CLI"
   ]
  },
  {
   "cell_type": "code",
   "execution_count": null,
   "metadata": {
    "collapsed": true
   },
   "outputs": [],
   "source": [
    "rollback_output = d.send_command('rollback configuration last 1')"
   ]
  },
  {
   "cell_type": "code",
   "execution_count": null,
   "metadata": {
    "collapsed": false
   },
   "outputs": [],
   "source": [
    "rollback_output"
   ]
  },
  {
   "cell_type": "markdown",
   "metadata": {
    "deletable": true,
    "editable": true
   },
   "source": [
    "## Calculate Reapply XML Document\n",
    "\n",
    "We also exclude certain data (e.g. that from Calvados)."
   ]
  },
  {
   "cell_type": "code",
   "execution_count": null,
   "metadata": {
    "collapsed": false,
    "deletable": true,
    "editable": true
   },
   "outputs": [],
   "source": [
    "EXCL_TAGS = [\n",
    "    '{http://cisco.com/ns/yang/Cisco-IOS-XR-man-netconf-cfg}netconf-yang',\n",
    "    '{http://cisco.com/ns/yang/Cisco-IOS-XR-crypto-sam-cfg}crypto',\n",
    "    '{http://cisco.com/calvados/fpd}fpd',\n",
    "    '{http://tail-f.com/ns/aaa/1.1}aaa',\n",
    "    '{http://cisco.com/ns/yang/Cisco-IOS-XR-aaa-lib-cfg}aaa',\n",
    "    '{http://tail-f.com/ns/confd_dyncfg/1.0}confdConfig',\n",
    "    '{http://tail-f.com/ns/mibs/SNMP-COMMUNITY-MIB/200308060000Z}SNMP-COMMUNITY-MIB',\n",
    "    '{http://tail-f.com/ns/mibs/SNMP-NOTIFICATION-MIB/200210140000Z}SNMP-NOTIFICATION-MIB',\n",
    "    '{http://tail-f.com/ns/mibs/SNMP-TARGET-MIB/200210140000Z}SNMP-TARGET-MIB',\n",
    "    '{http://tail-f.com/ns/mibs/SNMP-USER-BASED-SM-MIB/200210160000Z}SNMP-USER-BASED-SM-MIB',\n",
    "    '{http://tail-f.com/ns/mibs/SNMP-VIEW-BASED-ACM-MIB/200210160000Z}SNMP-VIEW-BASED-ACM-MIB',\n",
    "    '{http://tail-f.com/ns/mibs/SNMPv2-MIB/200210160000Z}SNMPv2-MIB',\n",
    "    '{http://www.cisco.com/ns/yang/Cisco-IOS-XR-sysadmin-services}service',\n",
    "    '{http://www.cisco.com/panini/calvados/sdr_mgr/sdr_sm}sdr-config',\n",
    "    '{http://www.cisco.com/panini/calvados/sdr_mgr/sdr_sm}private-sdr',\n",
    "    '{http://openconfig.net/yang/local-routing}local-routes',\n",
    "    '{http://openconfig.net/yang/interfaces}interfaces'\n",
    "]\n",
    "reapply = '<config>\\n'\n",
    "for item in etree.fromstring(running_config_after_xml).getchildren():\n",
    "    if item.tag not in EXCL_TAGS:\n",
    "        reapply = reapply + etree.tostring(item)\n",
    "reapply = reapply + '</config>'\n",
    "print(reapply)"
   ]
  },
  {
   "cell_type": "markdown",
   "metadata": {
    "deletable": true,
    "editable": true
   },
   "source": [
    "## Reapply Netconf Config"
   ]
  },
  {
   "cell_type": "code",
   "execution_count": null,
   "metadata": {
    "collapsed": false,
    "deletable": true,
    "editable": true
   },
   "outputs": [],
   "source": [
    "m.edit_config(reapply, format='xml', target='candidate', default_operation='merge')\n",
    "m.commit()"
   ]
  },
  {
   "cell_type": "markdown",
   "metadata": {
    "deletable": true,
    "editable": true
   },
   "source": [
    "## Get Running Config Again"
   ]
  },
  {
   "cell_type": "code",
   "execution_count": null,
   "metadata": {
    "collapsed": false,
    "deletable": true,
    "editable": true
   },
   "outputs": [],
   "source": [
    "running_config_after_xml_apply_text = d.send_command('show running-config')\n",
    "rollback_output = d.send_command('rollback configuration last 1')\n",
    "print(rollback_output)"
   ]
  },
  {
   "cell_type": "markdown",
   "metadata": {
    "deletable": true,
    "editable": true
   },
   "source": [
    "## Diff Before & After (Text Only)"
   ]
  },
  {
   "cell_type": "code",
   "execution_count": null,
   "metadata": {
    "collapsed": false,
    "deletable": true,
    "editable": true
   },
   "outputs": [],
   "source": [
    "from difflib import context_diff\n",
    "\n",
    "#\n",
    "# remember to skip the first few lines that have timestamps & stuff that may differ\n",
    "#\n",
    "print('\\n'.join(context_diff(running_config_after_text.splitlines()[5:],\n",
    "                             running_config_after_xml_apply_text.splitlines()[5:])))"
   ]
  },
  {
   "cell_type": "markdown",
   "metadata": {},
   "source": [
    "## XML Diff In Text Form"
   ]
  },
  {
   "cell_type": "code",
   "execution_count": null,
   "metadata": {
    "collapsed": false
   },
   "outputs": [],
   "source": [
    "from difflib import context_diff\n",
    "\n",
    "#\n",
    "# remember to skip the first few lines that have timestamps & stuff that may differ\n",
    "#\n",
    "print('\\n'.join(context_diff(running_config_before_xml.splitlines(),\n",
    "                             running_config_after_xml.splitlines())))"
   ]
  },
  {
   "cell_type": "markdown",
   "metadata": {},
   "source": [
    "## Diff Before & After (XML)"
   ]
  },
  {
   "cell_type": "code",
   "execution_count": null,
   "metadata": {
    "collapsed": false
   },
   "outputs": [],
   "source": [
    "import xtdiff\n",
    "\n",
    "EXCL_TAGS = [\n",
    "    '{http://cisco.com/ns/yang/Cisco-IOS-XR-man-netconf-cfg}netconf-yang',\n",
    "    '{http://cisco.com/ns/yang/Cisco-IOS-XR-crypto-sam-cfg}crypto',\n",
    "    '{http://cisco.com/calvados/fpd}fpd',\n",
    "    '{http://tail-f.com/ns/aaa/1.1}aaa',\n",
    "    '{http://cisco.com/ns/yang/Cisco-IOS-XR-aaa-lib-cfg}aaa',\n",
    "    '{http://tail-f.com/ns/confd_dyncfg/1.0}confdConfig',\n",
    "    '{http://tail-f.com/ns/mibs/SNMP-COMMUNITY-MIB/200308060000Z}SNMP-COMMUNITY-MIB',\n",
    "    '{http://tail-f.com/ns/mibs/SNMP-NOTIFICATION-MIB/200210140000Z}SNMP-NOTIFICATION-MIB',\n",
    "    '{http://tail-f.com/ns/mibs/SNMP-TARGET-MIB/200210140000Z}SNMP-TARGET-MIB',\n",
    "    '{http://tail-f.com/ns/mibs/SNMP-USER-BASED-SM-MIB/200210160000Z}SNMP-USER-BASED-SM-MIB',\n",
    "    '{http://tail-f.com/ns/mibs/SNMP-VIEW-BASED-ACM-MIB/200210160000Z}SNMP-VIEW-BASED-ACM-MIB',\n",
    "    '{http://tail-f.com/ns/mibs/SNMPv2-MIB/200210160000Z}SNMPv2-MIB',\n",
    "    '{http://www.cisco.com/ns/yang/Cisco-IOS-XR-sysadmin-services}service',\n",
    "    '{http://www.cisco.com/panini/calvados/sdr_mgr/sdr_sm}sdr-config',\n",
    "    '{http://www.cisco.com/panini/calvados/sdr_mgr/sdr_sm}private-sdr',\n",
    "    '{http://openconfig.net/yang/local-routing}local-routes',\n",
    "    '{http://openconfig.net/yang/interfaces}interfaces'\n",
    "]\n",
    "\n",
    "# create a filtered before string\n",
    "left_string = '<config>\\n'\n",
    "for item in etree.fromstring(running_config_before_xml).getchildren():\n",
    "    if item.tag not in EXCL_TAGS:\n",
    "        left_string = left_string + etree.tostring(item)\n",
    "left_string = left_string + '</config>'\n",
    "\n",
    "# create a filtered after string\n",
    "right_string = '<config>\\n'\n",
    "for item in etree.fromstring(running_config_after_xml).getchildren():\n",
    "    if item.tag not in EXCL_TAGS:\n",
    "        right_string = right_string + etree.tostring(item)\n",
    "right_string = right_string + '</config>'\n",
    "\n",
    "# diff the filtered before & after\n",
    "diffs = xtdiff.diff(etree.fromstring(left_string),\n",
    "                    etree.fromstring(right_string))\n",
    "\n",
    "# simple test\n",
    "#\n",
    "#left = \"\"\"<root>\n",
    "#</root>\"\"\"\n",
    "#right = \"\"\"<root>\n",
    "#  <para>Lorem ipsum dolor sit amet</para>\n",
    "#</root>\"\"\"\n",
    "#xtdiff.diff(etree.fromstring(left), etree.fromstring(right))\n"
   ]
  },
  {
   "cell_type": "code",
   "execution_count": null,
   "metadata": {
    "collapsed": false,
    "scrolled": false
   },
   "outputs": [],
   "source": [
    "print(left_string)\n",
    "print('')\n",
    "print(right_string)\n",
    "print('')\n",
    "print(diffs)\n",
    "print('')\n",
    "left_root = etree.fromstring(left_string)\n",
    "new_root = xtdiff.transform(left_root, diffs)\n",
    "print(etree.tostring(new_root))"
   ]
  },
  {
   "cell_type": "markdown",
   "metadata": {
    "deletable": true,
    "editable": true
   },
   "source": [
    "## Tidyup Sessions"
   ]
  },
  {
   "cell_type": "code",
   "execution_count": null,
   "metadata": {
    "collapsed": false
   },
   "outputs": [],
   "source": [
    "d.disconnect()"
   ]
  },
  {
   "cell_type": "code",
   "execution_count": null,
   "metadata": {
    "collapsed": false,
    "deletable": true,
    "editable": true
   },
   "outputs": [],
   "source": [
    "m.close_session()"
   ]
  },
  {
   "cell_type": "code",
   "execution_count": null,
   "metadata": {
    "collapsed": true,
    "deletable": true,
    "editable": true
   },
   "outputs": [],
   "source": []
  }
 ],
 "metadata": {
  "kernelspec": {
   "display_name": "Python 2",
   "language": "python",
   "name": "python2"
  },
  "language_info": {
   "codemirror_mode": {
    "name": "ipython",
    "version": 2
   },
   "file_extension": ".py",
   "mimetype": "text/x-python",
   "name": "python",
   "nbconvert_exporter": "python",
   "pygments_lexer": "ipython2",
   "version": "2.7.12"
  }
 },
 "nbformat": 4,
 "nbformat_minor": 2
}
