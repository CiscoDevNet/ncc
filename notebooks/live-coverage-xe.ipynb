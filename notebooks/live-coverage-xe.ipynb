{
 "cells": [
  {
   "cell_type": "markdown",
   "metadata": {
    "deletable": true,
    "editable": true
   },
   "source": [
    "# Netmiko & Diffing"
   ]
  },
  {
   "cell_type": "code",
   "execution_count": 1,
   "metadata": {
    "collapsed": true,
    "deletable": true,
    "editable": true
   },
   "outputs": [],
   "source": [
    "# Local CSR 1000v (running under vagrant) -- rtr1\n",
    "HOST = '127.0.0.1'\n",
    "PORT_NC = 2223\n",
    "PORT_SSH = 2222\n",
    "USER = 'vagrant'\n",
    "PASS = 'vagrant'\n",
    "PLATFORM = 'cisco_ios'"
   ]
  },
  {
   "cell_type": "markdown",
   "metadata": {
    "deletable": true,
    "editable": true
   },
   "source": [
    "## Connect both netmiko and ncclient"
   ]
  },
  {
   "cell_type": "code",
   "execution_count": 2,
   "metadata": {
    "collapsed": false,
    "deletable": true,
    "editable": true
   },
   "outputs": [],
   "source": [
    "from netmiko import ConnectHandler\n",
    "from ncclient import manager\n",
    "from lxml import etree\n",
    "\n",
    "\n",
    "def pretty_print(retval):\n",
    "    print(etree.tostring(retval.data, pretty_print=True))\n",
    "\n",
    "def my_unknown_host_cb(host, fingerprint):\n",
    "    return True\n",
    "\n",
    "def get_reply(chan, eom):\n",
    "    bytes = u''\n",
    "    while bytes.find(eom)==-1:\n",
    "        bytes += chan.recv(65535).decode('utf-8')\n",
    "    return bytes\n",
    "\n",
    "m = manager.connect(host=HOST, port=PORT_NC, username=USER, password=PASS,\n",
    "                    allow_agent=False,\n",
    "                    look_for_keys=False,\n",
    "                    hostkey_verify=False,\n",
    "                    unknown_host_cb=my_unknown_host_cb)\n",
    "d = ConnectHandler(device_type=PLATFORM, ip=HOST, port=PORT_SSH, username=USER, password=PASS)\n",
    "\n",
    "prompt = d.find_prompt()"
   ]
  },
  {
   "cell_type": "markdown",
   "metadata": {
    "collapsed": true,
    "deletable": true,
    "editable": true
   },
   "source": [
    "## Sample Config To Apply"
   ]
  },
  {
   "cell_type": "code",
   "execution_count": 3,
   "metadata": {
    "collapsed": false,
    "deletable": true,
    "editable": true
   },
   "outputs": [],
   "source": [
    "config = '''ip access-list standard FOO\n",
    " permit 10.128.0.0 0.127.255.255\n",
    " permit 10.119.120.0 0.0.7.255\n",
    " permit 10.87.79.0 0.0.0.255\n",
    " permit 10.87.96.0 0.0.0.255\n",
    " deny   any\n",
    "'''"
   ]
  },
  {
   "cell_type": "markdown",
   "metadata": {
    "deletable": true,
    "editable": true
   },
   "source": [
    "## Copy Config To Flash (IOS-XE Only)"
   ]
  },
  {
   "cell_type": "code",
   "execution_count": 4,
   "metadata": {
    "collapsed": false,
    "deletable": true,
    "editable": true
   },
   "outputs": [],
   "source": [
    "d.remote_conn.sendall('copy running-config flash:backup123.cfg\\n')\n",
    "get_reply(d.remote_conn, ']? ')\n",
    "d.remote_conn.sendall('\\n')\n",
    "output = get_reply(d.remote_conn, prompt)"
   ]
  },
  {
   "cell_type": "markdown",
   "metadata": {
    "deletable": true,
    "editable": true
   },
   "source": [
    "## Apply Config"
   ]
  },
  {
   "cell_type": "code",
   "execution_count": 5,
   "metadata": {
    "collapsed": false,
    "deletable": true,
    "editable": true
   },
   "outputs": [],
   "source": [
    "output = d.send_config_set(config.splitlines())"
   ]
  },
  {
   "cell_type": "markdown",
   "metadata": {
    "deletable": true,
    "editable": true
   },
   "source": [
    "## Capture Running Config"
   ]
  },
  {
   "cell_type": "code",
   "execution_count": 6,
   "metadata": {
    "collapsed": false,
    "deletable": true,
    "editable": true
   },
   "outputs": [],
   "source": [
    "running_config_before = d.send_command('show running-config')"
   ]
  },
  {
   "cell_type": "markdown",
   "metadata": {
    "deletable": true,
    "editable": true
   },
   "source": [
    "## Capture Netconf Config"
   ]
  },
  {
   "cell_type": "code",
   "execution_count": 7,
   "metadata": {
    "collapsed": false,
    "deletable": true,
    "editable": true
   },
   "outputs": [],
   "source": [
    "retval = m.get_config(source='running', filter=('xpath', '/native'))\n",
    "native = retval.data_ele[0]\n",
    "reapply = '<config>' + etree.tostring(native) + '</config>'"
   ]
  },
  {
   "cell_type": "markdown",
   "metadata": {
    "deletable": true,
    "editable": true
   },
   "source": [
    "## Restore Config From Flash"
   ]
  },
  {
   "cell_type": "code",
   "execution_count": 8,
   "metadata": {
    "collapsed": false,
    "deletable": true,
    "editable": true
   },
   "outputs": [
    {
     "name": "stdout",
     "output_type": "stream",
     "text": [
      "configure replace flash:backup123.cfg\r\n",
      "This will apply all necessary additions and deletions\r\n",
      "to replace the current running configuration with the\r\n",
      "contents of the specified configuration file, which is\r\n",
      "assumed to be a complete configuration, not a partial\r\n",
      "configuration. Enter Y if you are sure you want to proceed. ? [no]: \n",
      "y\r\n",
      "Total number of passes: 0\r\n",
      "Rollback Done\r\n",
      "\r\n",
      "csr1kv#\n"
     ]
    }
   ],
   "source": [
    "d.remote_conn.sendall('configure replace flash:backup123.cfg\\n')\n",
    "output = get_reply(d.remote_conn, '[no]: ')\n",
    "print(output)\n",
    "d.remote_conn.sendall('y\\n')\n",
    "output = get_reply(d.remote_conn, prompt)\n",
    "print(output)"
   ]
  },
  {
   "cell_type": "markdown",
   "metadata": {
    "deletable": true,
    "editable": true
   },
   "source": [
    "## Reapply Netconf Config"
   ]
  },
  {
   "cell_type": "code",
   "execution_count": 9,
   "metadata": {
    "collapsed": false,
    "deletable": true,
    "editable": true
   },
   "outputs": [
    {
     "data": {
      "text/plain": [
       "<?xml version=\"1.0\" encoding=\"UTF-8\"?>\n",
       "<rpc-reply xmlns=\"urn:ietf:params:xml:ns:netconf:base:1.0\" message-id=\"urn:uuid:653df30f-437c-4086-ad34-575e96289ad3\" xmlns:nc=\"urn:ietf:params:xml:ns:netconf:base:1.0\"><ok/></rpc-reply>"
      ]
     },
     "execution_count": 9,
     "metadata": {},
     "output_type": "execute_result"
    }
   ],
   "source": [
    "m.edit_config(reapply, format='xml', target='running', default_operation='merge')"
   ]
  },
  {
   "cell_type": "markdown",
   "metadata": {
    "deletable": true,
    "editable": true
   },
   "source": [
    "## Get Running Config Again"
   ]
  },
  {
   "cell_type": "code",
   "execution_count": 10,
   "metadata": {
    "collapsed": true,
    "deletable": true,
    "editable": true
   },
   "outputs": [],
   "source": [
    "running_config_after = d.send_command('show running-config')"
   ]
  },
  {
   "cell_type": "markdown",
   "metadata": {
    "deletable": true,
    "editable": true
   },
   "source": [
    "## Diff Before & After"
   ]
  },
  {
   "cell_type": "code",
   "execution_count": 11,
   "metadata": {
    "collapsed": false,
    "deletable": true,
    "editable": true
   },
   "outputs": [
    {
     "name": "stdout",
     "output_type": "stream",
     "text": [
      "\n"
     ]
    }
   ],
   "source": [
    "from difflib import context_diff\n",
    "\n",
    "#\n",
    "# remember to skip the first few lines that have timestamps & stuff that may differ\n",
    "#\n",
    "print(''.join(context_diff(running_config_before.splitlines()[5:], running_config_after.splitlines()[5:])))"
   ]
  },
  {
   "cell_type": "markdown",
   "metadata": {
    "deletable": true,
    "editable": true
   },
   "source": [
    "## Delete Backup From Flash"
   ]
  },
  {
   "cell_type": "code",
   "execution_count": 12,
   "metadata": {
    "collapsed": false,
    "deletable": true,
    "editable": true
   },
   "outputs": [],
   "source": [
    "d.remote_conn.sendall('delete flash:backup123.cfg\\n')\n",
    "output = get_reply(d.remote_conn, ']? ')\n",
    "d.remote_conn.sendall('\\n')\n",
    "output = get_reply(d.remote_conn, '[confirm]')\n",
    "d.remote_conn.sendall('\\n')\n",
    "output = get_reply(d.remote_conn, prompt)"
   ]
  },
  {
   "cell_type": "markdown",
   "metadata": {
    "deletable": true,
    "editable": true
   },
   "source": [
    "## Tidyup Sessions"
   ]
  },
  {
   "cell_type": "code",
   "execution_count": 13,
   "metadata": {
    "collapsed": false,
    "deletable": true,
    "editable": true
   },
   "outputs": [
    {
     "data": {
      "text/plain": [
       "<?xml version=\"1.0\" encoding=\"UTF-8\"?>\n",
       "<rpc-reply xmlns=\"urn:ietf:params:xml:ns:netconf:base:1.0\" message-id=\"urn:uuid:d413420d-396a-4fbb-ac63-1c99a1434550\" xmlns:nc=\"urn:ietf:params:xml:ns:netconf:base:1.0\"><ok/></rpc-reply>"
      ]
     },
     "execution_count": 13,
     "metadata": {},
     "output_type": "execute_result"
    }
   ],
   "source": [
    "d.disconnect()\n",
    "m.close_session()"
   ]
  },
  {
   "cell_type": "code",
   "execution_count": null,
   "metadata": {
    "collapsed": true,
    "deletable": true,
    "editable": true
   },
   "outputs": [],
   "source": []
  }
 ],
 "metadata": {
  "kernelspec": {
   "display_name": "Python 2",
   "language": "python",
   "name": "python2"
  },
  "language_info": {
   "codemirror_mode": {
    "name": "ipython",
    "version": 2
   },
   "file_extension": ".py",
   "mimetype": "text/x-python",
   "name": "python",
   "nbconvert_exporter": "python",
   "pygments_lexer": "ipython2",
   "version": "2.7.12"
  }
 },
 "nbformat": 4,
 "nbformat_minor": 2
}
