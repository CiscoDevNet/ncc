{
 "cells": [
  {
   "cell_type": "markdown",
   "metadata": {
    "deletable": true,
    "editable": true
   },
   "source": [
    "# Netmiko & Diffing"
   ]
  },
  {
   "cell_type": "code",
   "execution_count": 1,
   "metadata": {
    "collapsed": true,
    "deletable": true,
    "editable": true
   },
   "outputs": [],
   "source": [
    "HOST = '192.75.232.222'\n",
    "PORT_NC = 830\n",
    "PORT_SSH = 22\n",
    "USER = 'cisco'\n",
    "PASS = 'cisco'\n",
    "PLATFORM = 'cisco_xr'"
   ]
  },
  {
   "cell_type": "markdown",
   "metadata": {
    "deletable": true,
    "editable": true
   },
   "source": [
    "## Connect both netmiko and ncclient"
   ]
  },
  {
   "cell_type": "code",
   "execution_count": 2,
   "metadata": {
    "collapsed": false,
    "deletable": true,
    "editable": true
   },
   "outputs": [],
   "source": [
    "from netmiko import ConnectHandler\n",
    "from ncclient import manager\n",
    "from lxml import etree\n",
    "\n",
    "\n",
    "def pretty_print(retval):\n",
    "    print(etree.tostring(retval.data, pretty_print=True))\n",
    "\n",
    "def my_unknown_host_cb(host, fingerprint):\n",
    "    return True\n",
    "\n",
    "def get_reply(chan, eom):\n",
    "    bytes = u''\n",
    "    while bytes.find(eom)==-1:\n",
    "        bytes += chan.recv(65535).decode('utf-8')\n",
    "    return bytes\n",
    "\n",
    "m = manager.connect(host=HOST, port=PORT_NC, username=USER, password=PASS,\n",
    "                    allow_agent=False,\n",
    "                    look_for_keys=False,\n",
    "                    hostkey_verify=False,\n",
    "                    unknown_host_cb=my_unknown_host_cb)\n",
    "d = ConnectHandler(device_type=PLATFORM, ip=HOST, port=PORT_SSH, username=USER, password=PASS)\n",
    "\n",
    "prompt = d.find_prompt()"
   ]
  },
  {
   "cell_type": "markdown",
   "metadata": {
    "collapsed": true,
    "deletable": true,
    "editable": true
   },
   "source": [
    "## Sample Config To Apply"
   ]
  },
  {
   "cell_type": "code",
   "execution_count": 3,
   "metadata": {
    "collapsed": false,
    "deletable": true,
    "editable": true
   },
   "outputs": [],
   "source": [
    "config = '''interface Loopback666\n",
    "description Hi\n",
    "commit\n",
    "end\n",
    "'''"
   ]
  },
  {
   "cell_type": "markdown",
   "metadata": {
    "deletable": true,
    "editable": true
   },
   "source": [
    "## Capture Starting Config"
   ]
  },
  {
   "cell_type": "code",
   "execution_count": 4,
   "metadata": {
    "collapsed": false,
    "deletable": true,
    "editable": true
   },
   "outputs": [],
   "source": [
    "running_config_before_text = d.send_command('show running-config')\n",
    "running_config_before_xml = etree.tostring(m.get_config(source='running').data)"
   ]
  },
  {
   "cell_type": "markdown",
   "metadata": {
    "deletable": true,
    "editable": true
   },
   "source": [
    "## Apply Config"
   ]
  },
  {
   "cell_type": "code",
   "execution_count": 5,
   "metadata": {
    "collapsed": false,
    "deletable": true,
    "editable": true
   },
   "outputs": [],
   "source": [
    "output = d.send_config_set(config.splitlines())"
   ]
  },
  {
   "cell_type": "markdown",
   "metadata": {
    "deletable": true,
    "editable": true
   },
   "source": [
    "## Capture Post-Configlet Running Config"
   ]
  },
  {
   "cell_type": "code",
   "execution_count": 6,
   "metadata": {
    "collapsed": false,
    "deletable": true,
    "editable": true
   },
   "outputs": [],
   "source": [
    "running_config_after_text = d.send_command('show running-config')\n",
    "running_config_after_xml = etree.tostring(m.get_config(source='running').data)"
   ]
  },
  {
   "cell_type": "markdown",
   "metadata": {
    "deletable": true,
    "editable": true
   },
   "source": [
    "## XML Diff In Text Form"
   ]
  },
  {
   "cell_type": "code",
   "execution_count": 7,
   "metadata": {
    "collapsed": false,
    "deletable": true,
    "editable": true
   },
   "outputs": [
    {
     "name": "stdout",
     "output_type": "stream",
     "text": [
      "\n"
     ]
    }
   ],
   "source": [
    "from difflib import context_diff\n",
    "\n",
    "#\n",
    "# remember to skip the first few lines that have timestamps & stuff that may differ\n",
    "#\n",
    "print('\\n'.join(context_diff(running_config_before_xml.splitlines(),\n",
    "                             running_config_after_xml.splitlines())))"
   ]
  },
  {
   "cell_type": "markdown",
   "metadata": {
    "deletable": true,
    "editable": true
   },
   "source": [
    "## Rollback Using CLI"
   ]
  },
  {
   "cell_type": "code",
   "execution_count": 8,
   "metadata": {
    "collapsed": true,
    "deletable": true,
    "editable": true
   },
   "outputs": [],
   "source": [
    "rollback_output = d.send_command('rollback configuration last 1')"
   ]
  },
  {
   "cell_type": "code",
   "execution_count": 9,
   "metadata": {
    "collapsed": false,
    "deletable": true,
    "editable": true
   },
   "outputs": [
    {
     "data": {
      "text/plain": [
       "u'\\nWed Mar 29 12:23:43.691 UTC\\n\\nLoading Rollback Changes.\\nLoaded Rollback Changes in 1 sec \\nCommitting.\\n3 items committed in 1 sec (2)items/sec\\nUpdating.\\nUpdated Commit database in 1 sec \\nConfiguration successfully rolled back 1 commits.'"
      ]
     },
     "execution_count": 9,
     "metadata": {},
     "output_type": "execute_result"
    }
   ],
   "source": [
    "rollback_output"
   ]
  },
  {
   "cell_type": "markdown",
   "metadata": {
    "deletable": true,
    "editable": true
   },
   "source": [
    "## Calculate Reapply XML Document\n",
    "\n",
    "We also exclude certain data (e.g. that from Calvados)."
   ]
  },
  {
   "cell_type": "code",
   "execution_count": 10,
   "metadata": {
    "collapsed": false,
    "deletable": true,
    "editable": true,
    "scrolled": false
   },
   "outputs": [
    {
     "name": "stdout",
     "output_type": "stream",
     "text": [
      "<config>\n",
      "<restconf xmlns=\"http://cisco.com/ns/yang/Cisco-IOS-XR-man-restconf-cfg\" xmlns:nc=\"urn:ietf:params:xml:ns:netconf:base:1.0\">\n",
      "   <agent>\n",
      "    <enable/>\n",
      "   </agent>\n",
      "  </restconf>\n",
      "  <ip xmlns=\"http://cisco.com/ns/yang/Cisco-IOS-XR-ip-tcp-cfg\" xmlns:nc=\"urn:ietf:params:xml:ns:netconf:base:1.0\">\n",
      "   <cinetd>\n",
      "    <services>\n",
      "     <vrfs>\n",
      "      <vrf>\n",
      "       <vrf-name>default</vrf-name>\n",
      "       <ipv4>\n",
      "        <telnet>\n",
      "         <tcp>\n",
      "          <maximum-server>35</maximum-server>\n",
      "         </tcp>\n",
      "        </telnet>\n",
      "       </ipv4>\n",
      "      </vrf>\n",
      "     </vrfs>\n",
      "    </services>\n",
      "   </cinetd>\n",
      "  </ip>\n",
      "  <web xmlns=\"http://cisco.com/ns/yang/Cisco-IOS-XR-man-http-lighttpd-yang-cfg\" xmlns:nc=\"urn:ietf:params:xml:ns:netconf:base:1.0\">\n",
      "   <server>\n",
      "    <service>\n",
      "     <restconf>\n",
      "      <enable/>\n",
      "      <http-enable/>\n",
      "     </restconf>\n",
      "    </service>\n",
      "   </server>\n",
      "  </web>\n",
      "  <router-static xmlns=\"http://cisco.com/ns/yang/Cisco-IOS-XR-ip-static-cfg\" xmlns:nc=\"urn:ietf:params:xml:ns:netconf:base:1.0\">\n",
      "   <default-vrf>\n",
      "    <address-family>\n",
      "     <vrfipv4>\n",
      "      <vrf-unicast>\n",
      "       <vrf-prefixes>\n",
      "        <vrf-prefix>\n",
      "         <prefix>0.0.0.0</prefix>\n",
      "         <prefix-length>0</prefix-length>\n",
      "         <vrf-route>\n",
      "          <vrf-next-hop-table>\n",
      "           <vrf-next-hop-interface-name-next-hop-address>\n",
      "            <interface-name>MgmtEth0/RP0/CPU0/0</interface-name>\n",
      "            <next-hop-address>192.75.232.1</next-hop-address>\n",
      "           </vrf-next-hop-interface-name-next-hop-address>\n",
      "          </vrf-next-hop-table>\n",
      "         </vrf-route>\n",
      "        </vrf-prefix>\n",
      "       </vrf-prefixes>\n",
      "      </vrf-unicast>\n",
      "     </vrfipv4>\n",
      "    </address-family>\n",
      "   </default-vrf>\n",
      "  </router-static>\n",
      "  <interface-configurations xmlns=\"http://cisco.com/ns/yang/Cisco-IOS-XR-ifmgr-cfg\" xmlns:nc=\"urn:ietf:params:xml:ns:netconf:base:1.0\">\n",
      "   <interface-configuration>\n",
      "    <active>act</active>\n",
      "    <interface-name>Loopback2</interface-name>\n",
      "    <interface-virtual/>\n",
      "    <ipv4-network xmlns=\"http://cisco.com/ns/yang/Cisco-IOS-XR-ipv4-io-cfg\">\n",
      "     <addresses>\n",
      "      <primary>\n",
      "       <address>128.0.0.1</address>\n",
      "       <netmask>255.0.0.0</netmask>\n",
      "      </primary>\n",
      "     </addresses>\n",
      "    </ipv4-network>\n",
      "   </interface-configuration>\n",
      "   <interface-configuration>\n",
      "    <active>act</active>\n",
      "    <interface-name>Loopback666</interface-name>\n",
      "    <interface-virtual/>\n",
      "    <description>Hi</description>\n",
      "   </interface-configuration>\n",
      "   <interface-configuration>\n",
      "    <active>act</active>\n",
      "    <interface-name>MgmtEth0/RP0/CPU0/0</interface-name>\n",
      "    <ipv4-network xmlns=\"http://cisco.com/ns/yang/Cisco-IOS-XR-ipv4-io-cfg\">\n",
      "     <addresses>\n",
      "      <primary>\n",
      "       <address>192.75.232.222</address>\n",
      "       <netmask>255.255.255.0</netmask>\n",
      "      </primary>\n",
      "     </addresses>\n",
      "    </ipv4-network>\n",
      "   </interface-configuration>\n",
      "   <interface-configuration>\n",
      "    <active>act</active>\n",
      "    <interface-name>GigabitEthernet0/0/0/0</interface-name>\n",
      "    <shutdown/>\n",
      "   </interface-configuration>\n",
      "   <interface-configuration>\n",
      "    <active>act</active>\n",
      "    <interface-name>GigabitEthernet0/0/0/1</interface-name>\n",
      "    <shutdown/>\n",
      "   </interface-configuration>\n",
      "   <interface-configuration>\n",
      "    <active>act</active>\n",
      "    <interface-name>GigabitEthernet0/0/0/2</interface-name>\n",
      "    <shutdown/>\n",
      "   </interface-configuration>\n",
      "  </interface-configurations>\n",
      "  </config>\n"
     ]
    }
   ],
   "source": [
    "EXCL_TAGS = [\n",
    "    '{http://cisco.com/ns/yang/Cisco-IOS-XR-man-netconf-cfg}netconf-yang',\n",
    "    '{http://cisco.com/ns/yang/Cisco-IOS-XR-crypto-sam-cfg}crypto',\n",
    "    '{http://cisco.com/calvados/fpd}fpd',\n",
    "    '{http://tail-f.com/ns/aaa/1.1}aaa',\n",
    "    '{http://cisco.com/ns/yang/Cisco-IOS-XR-aaa-lib-cfg}aaa',\n",
    "    '{http://tail-f.com/ns/confd_dyncfg/1.0}confdConfig',\n",
    "    '{http://tail-f.com/ns/mibs/SNMP-COMMUNITY-MIB/200308060000Z}SNMP-COMMUNITY-MIB',\n",
    "    '{http://tail-f.com/ns/mibs/SNMP-NOTIFICATION-MIB/200210140000Z}SNMP-NOTIFICATION-MIB',\n",
    "    '{http://tail-f.com/ns/mibs/SNMP-TARGET-MIB/200210140000Z}SNMP-TARGET-MIB',\n",
    "    '{http://tail-f.com/ns/mibs/SNMP-USER-BASED-SM-MIB/200210160000Z}SNMP-USER-BASED-SM-MIB',\n",
    "    '{http://tail-f.com/ns/mibs/SNMP-VIEW-BASED-ACM-MIB/200210160000Z}SNMP-VIEW-BASED-ACM-MIB',\n",
    "    '{http://tail-f.com/ns/mibs/SNMPv2-MIB/200210160000Z}SNMPv2-MIB',\n",
    "    '{http://www.cisco.com/ns/yang/Cisco-IOS-XR-sysadmin-services}service',\n",
    "    '{http://www.cisco.com/panini/calvados/sdr_mgr/sdr_sm}sdr-config',\n",
    "    '{http://www.cisco.com/panini/calvados/sdr_mgr/sdr_sm}private-sdr',\n",
    "    '{http://openconfig.net/yang/local-routing}local-routes',\n",
    "    '{http://openconfig.net/yang/interfaces}interfaces'\n",
    "]\n",
    "reapply = '<config>\\n'\n",
    "for item in etree.fromstring(running_config_after_xml).getchildren():\n",
    "    if item.tag not in EXCL_TAGS:\n",
    "        reapply = reapply + etree.tostring(item)\n",
    "reapply = reapply + '</config>'\n",
    "print(reapply)"
   ]
  },
  {
   "cell_type": "markdown",
   "metadata": {
    "deletable": true,
    "editable": true
   },
   "source": [
    "## Reapply Netconf Config"
   ]
  },
  {
   "cell_type": "code",
   "execution_count": 11,
   "metadata": {
    "collapsed": false,
    "deletable": true,
    "editable": true
   },
   "outputs": [
    {
     "data": {
      "text/plain": [
       "<?xml version=\"1.0\"?>\n",
       "<rpc-reply message-id=\"urn:uuid:03e4213d-3c12-4140-b65f-ca1870bba87b\" xmlns:nc=\"urn:ietf:params:xml:ns:netconf:base:1.0\" xmlns=\"urn:ietf:params:xml:ns:netconf:base:1.0\">\n",
       " <ok/>\n",
       "</rpc-reply>"
      ]
     },
     "execution_count": 11,
     "metadata": {},
     "output_type": "execute_result"
    }
   ],
   "source": [
    "m.edit_config(reapply, format='xml', target='candidate', default_operation='merge')\n",
    "m.commit()"
   ]
  },
  {
   "cell_type": "markdown",
   "metadata": {
    "deletable": true,
    "editable": true
   },
   "source": [
    "## Get Running Config Again"
   ]
  },
  {
   "cell_type": "code",
   "execution_count": 12,
   "metadata": {
    "collapsed": false,
    "deletable": true,
    "editable": true
   },
   "outputs": [
    {
     "name": "stdout",
     "output_type": "stream",
     "text": [
      "\n",
      "Wed Mar 29 12:24:12.502 UTC\n",
      "\n",
      "Loading Rollback Changes.\n",
      "Loaded Rollback Changes in 1 sec \n",
      "Committing.\n",
      "19 items committed in 1 sec \n",
      "Updating.\n",
      "Updated Commit database in 1 sec \n",
      "Configuration successfully rolled back 1 commits.\n"
     ]
    }
   ],
   "source": [
    "running_config_after_xml_apply_text = d.send_command('show running-config')\n",
    "rollback_output = d.send_command('rollback configuration last 1')\n",
    "print(rollback_output)"
   ]
  },
  {
   "cell_type": "markdown",
   "metadata": {
    "deletable": true,
    "editable": true
   },
   "source": [
    "## Diff After Original Apply & After XML Apply (Text Only)"
   ]
  },
  {
   "cell_type": "code",
   "execution_count": 13,
   "metadata": {
    "collapsed": false,
    "deletable": true,
    "editable": true
   },
   "outputs": [
    {
     "name": "stdout",
     "output_type": "stream",
     "text": [
      "\n"
     ]
    }
   ],
   "source": [
    "from difflib import context_diff\n",
    "\n",
    "#\n",
    "# remember to skip the first few lines that have timestamps & stuff that may differ\n",
    "#\n",
    "print('\\n'.join(context_diff(running_config_after_text.splitlines()[5:],\n",
    "                             running_config_after_xml_apply_text.splitlines()[5:])))"
   ]
  },
  {
   "cell_type": "markdown",
   "metadata": {
    "deletable": true,
    "editable": true
   },
   "source": [
    "## Tidyup Sessions"
   ]
  },
  {
   "cell_type": "code",
   "execution_count": 14,
   "metadata": {
    "collapsed": false,
    "deletable": true,
    "editable": true
   },
   "outputs": [],
   "source": [
    "d.disconnect()"
   ]
  },
  {
   "cell_type": "code",
   "execution_count": 15,
   "metadata": {
    "collapsed": false,
    "deletable": true,
    "editable": true
   },
   "outputs": [
    {
     "data": {
      "text/plain": [
       "<?xml version=\"1.0\"?>\n",
       "<rpc-reply message-id=\"urn:uuid:f33ff400-5321-44bd-87d5-e202e76b4403\" xmlns:nc=\"urn:ietf:params:xml:ns:netconf:base:1.0\" xmlns=\"urn:ietf:params:xml:ns:netconf:base:1.0\">\n",
       " <ok/>\n",
       "</rpc-reply>"
      ]
     },
     "execution_count": 15,
     "metadata": {},
     "output_type": "execute_result"
    }
   ],
   "source": [
    "m.close_session()"
   ]
  },
  {
   "cell_type": "code",
   "execution_count": null,
   "metadata": {
    "collapsed": true,
    "deletable": true,
    "editable": true
   },
   "outputs": [],
   "source": []
  }
 ],
 "metadata": {
  "kernelspec": {
   "display_name": "Python 2",
   "language": "python",
   "name": "python2"
  },
  "language_info": {
   "codemirror_mode": {
    "name": "ipython",
    "version": 2
   },
   "file_extension": ".py",
   "mimetype": "text/x-python",
   "name": "python",
   "nbconvert_exporter": "python",
   "pygments_lexer": "ipython2",
   "version": "2.7.12"
  }
 },
 "nbformat": 4,
 "nbformat_minor": 2
}
