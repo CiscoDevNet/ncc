{
 "cells": [
  {
   "cell_type": "code",
   "execution_count": null,
   "metadata": {
    "collapsed": false
   },
   "outputs": [],
   "source": [
    "#\n",
    "# Get running config from an IOS-XR device and print out some\n",
    "# interface information. Shows how to use the jxmlease library\n",
    "# for when you'd rather have JSON but have to deal with XML!\n",
    "#\n",
    "from ncclient import manager\n",
    "import jxmlease\n",
    "import json\n",
    "\n",
    "HOST = '127.0.0.1'\n",
    "PORT = 8304\n",
    "USER = 'cisco'\n",
    "PASS = 'cisco'\n",
    "\n",
    "def my_unknown_host_cb(host, fingerprint):\n",
    "    return True\n",
    "\n",
    "m = manager.connect(host=HOST, port=PORT, username=USER, password=PASS,\n",
    "                    timeout=600,\n",
    "                    allow_agent=False,\n",
    "                    look_for_keys=False,\n",
    "                    hostkey_verify=False,\n",
    "                    unknown_host_cb=my_unknown_host_cb)\n",
    "\n",
    "c = m.get_config(source='running')\n",
    "r = jxmlease.parse(c.data_xml)\n",
    "\n",
    "#for intf in r[u'data'][u'interface-configurations'][u'interface-configuration']:\n",
    "#    if 'ipv4-network' in intf.keys():\n",
    "#        print(\"{} has IPv4 address {}\".format(\n",
    "#                intf[u'interface-name'],\n",
    "#                intf[u'ipv4-network'][u'addresses'][u'primary'][u'address']))\n",
    "#    else:\n",
    "#        print(\"{} has no IPv4 network config\".format(intf[u'interface-name']))\n",
    "\n",
    "print(r.emit_xml())\n",
    "# print(json.dumps(r, indent=2))\n",
    "\n",
    "#c = m.get('''<filter>\n",
    "#  <netconf-state xmlns=\"urn:ietf:params:xml:ns:yang:ietf-netconf-monitoring\">\n",
    "#    <schemas/>\n",
    "#  </netconf-state>\n",
    "#</filter>''')\n",
    "#r = jxmlease.parse(c.data_xml)\n",
    "\n",
    "#for s in sorted(r[u'data'][u'netconf-state'][u'schemas'][u'schema']):\n",
    "#    ident = s[u'identifier']\n",
    "#    if 'openconfig' in ident:\n",
    "#        print(ident)"
   ]
  },
  {
   "cell_type": "code",
   "execution_count": null,
   "metadata": {
    "collapsed": false
   },
   "outputs": [],
   "source": [
    "import jxmlease\n",
    "from jxmlease import XMLDictNode\n",
    "from jxmlease import XMLCDATANode\n",
    "\n",
    "\n",
    "# <interface-configurations xmlns=\"http://cisco.com/ns/yang/Cisco-IOS-XR-ifmgr-cfg\">\n",
    "r1 = XMLDictNode()\n",
    "top = r1.add_node('interface-configurations', xml_attrs={'xmlns': 'http://cisco.com/ns/yang/Cisco-IOS-XR-ifmgr-cfg'})\n",
    "print r1.emit_xml()\n",
    "\n",
    "r2 = XMLDictNode() # '<interface-configurations xmlns=\"http://cisco.com/ns/yang/Cisco-IOS-XR-ifmgr-cfg\"/>')\n",
    "r2['interface-configurations'] = ''\n",
    "r2['interface-configurations'].xml_attrs = {'xmlns': 'http://cisco.com/ns/yang/Cisco-IOS-XR-ifmgr-cfg'}\n",
    "print r2.emit_xml()"
   ]
  },
  {
   "cell_type": "code",
   "execution_count": null,
   "metadata": {
    "collapsed": false
   },
   "outputs": [],
   "source": [
    "top.xml_attrs"
   ]
  },
  {
   "cell_type": "code",
   "execution_count": null,
   "metadata": {
    "collapsed": false
   },
   "outputs": [],
   "source": [
    "import jxmlease\n",
    "\n",
    "r = jxmlease.parse('<interface-configurations xmlns=\"http://cisco.com/ns/yang/Cisco-IOS-XR-ifmgr-cfg\"/>')\n",
    "r"
   ]
  },
  {
   "cell_type": "markdown",
   "metadata": {},
   "source": [
    "# DictToXML"
   ]
  },
  {
   "cell_type": "code",
   "execution_count": null,
   "metadata": {
    "collapsed": false
   },
   "outputs": [],
   "source": [
    "import dicttoxml\n",
    "\n",
    "obj = { u'interface-configurations': u''}\n",
    "\n",
    "xml = dicttoxml.dicttoxml(obj, attr_type=False, root=False)\n",
    "\n",
    "print(xml)"
   ]
  },
  {
   "cell_type": "markdown",
   "metadata": {},
   "source": [
    "# Using lxml"
   ]
  },
  {
   "cell_type": "code",
   "execution_count": null,
   "metadata": {
    "collapsed": false
   },
   "outputs": [],
   "source": [
    "from lxml import etree\n",
    "\n",
    "IFMGR = 'http://cisco.com/ns/yang/Cisco-IOS-XR-ifmgr-cfg'\n",
    "\n",
    "NC_NAMESPACE = 'urn:ietf:params:xml:ns:netconf:base:1.0'\n",
    "\n",
    "NC = '{%s}' % NC_NAMESPACE\n",
    "\n",
    "NSMAP = {\n",
    "    'nc': NC_NAMESPACE\n",
    "}\n",
    "\n",
    "def serialize(d, xmlns=IFMGR):\n",
    "    \"\"\"Serialize a dictionary to XML\"\"\"\n",
    "    assert len(d.keys()) == 1, 'Cannot encode more than one root element'\n",
    "    name = d.keys()[0]\n",
    "    root = etree.Element(name, xmlns=xmlns, nsmap=NSMAP)\n",
    "    populate_element(root, d[name])\n",
    "\n",
    "    return etree.tostring(root, pretty_print=True)\n",
    "\n",
    "\n",
    "def populate_element(element, e):\n",
    "    \"\"\"Populates an etree with the given dictionary\"\"\"\n",
    "    if type(e) is dict:\n",
    "        # serialize child dictionary\n",
    "        for k, v in e.iteritems():\n",
    "            if type(v) is dict:\n",
    "                child = etree.element(k)\n",
    "                populate_element(child, v)\n",
    "            else:\n",
    "                if k[0] == '_':\n",
    "                    attr = k[1:]\n",
    "                    element.set(NC+attr, v)\n",
    "                else:\n",
    "                    leaf = etree.Element(k, nsmap=NSMAP)\n",
    "                    leaf.text = unicode(v)\n",
    "                    element.append(leaf)\n",
    "    elif type(e) is list:\n",
    "        k = element.tag\n",
    "        if k[-1] == 's':\n",
    "            name = k[:-1]\n",
    "        else:\n",
    "            name = k\n",
    "        for item in e:\n",
    "            child = etree.Element(name, nsmap=NSMAP)\n",
    "            populate_element(child, item)\n",
    "            element.append(child)\n",
    "        \n",
    "d1 = {\n",
    "    u'interface-configurations': [\n",
    "        {\n",
    "            u'interface-name': 'GigabitEthernet0/0/0/0'\n",
    "        }\n",
    "    ]\n",
    "}\n",
    "d2 = {\n",
    "    u'config': {\n",
    "        u'interface-configurations': [\n",
    "            {\n",
    "                u'_operation': 'delete',\n",
    "                u'interface-name': 'GigabitEthernet0/0/0/0'\n",
    "            }\n",
    "        ]\n",
    "    }\n",
    "}\n",
    "\n",
    "\n",
    "print serialize(d1)\n",
    "print serialize(d2)"
   ]
  },
  {
   "cell_type": "code",
   "execution_count": null,
   "metadata": {
    "collapsed": true
   },
   "outputs": [],
   "source": [
    ""
   ]
  }
 ],
 "metadata": {
  "kernelspec": {
   "display_name": "Python 2",
   "language": "python",
   "name": "python2"
  },
  "language_info": {
   "codemirror_mode": {
    "name": "ipython",
    "version": 2.0
   },
   "file_extension": ".py",
   "mimetype": "text/x-python",
   "name": "python",
   "nbconvert_exporter": "python",
   "pygments_lexer": "ipython2",
   "version": "2.7.12"
  }
 },
 "nbformat": 4,
 "nbformat_minor": 0
}